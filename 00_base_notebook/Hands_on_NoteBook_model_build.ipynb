{
  "cells": [
    {
      "cell_type": "markdown",
      "metadata": {
        "id": "JEfsbdbHNpFz"
      },
      "source": [
        "# Install packages"
      ]
    },
    {
      "cell_type": "code",
      "execution_count": null,
      "metadata": {
        "colab": {
          "base_uri": "https://localhost:8080/"
        },
        "executionInfo": {
          "elapsed": 6302,
          "status": "ok",
          "timestamp": 1636614598555,
          "user": {
            "displayName": "李万宇",
            "photoUrl": "https://lh3.googleusercontent.com/a-/AOh14GgL6QlaaH1MxPrzoHKA3ag6tqpBKrPo0E9vJxYj4g=s64",
            "userId": "01804867656979680118"
          },
          "user_tz": -540
        },
        "gather": {
          "logged": 1656566699873
        },
        "id": "a-I4YALeNu_D",
        "outputId": "a8191601-7032-4f3e-fc7b-3724e9f69c30"
      },
      "outputs": [],
      "source": [
        "# %pip install catboost==1.0.6\n",
        "# %pip install scikit-learn==0.24"
      ]
    },
    {
      "cell_type": "markdown",
      "metadata": {
        "id": "AHW5mJEMNcGp"
      },
      "source": [
        "# Import package"
      ]
    },
    {
      "cell_type": "code",
      "execution_count": null,
      "metadata": {
        "executionInfo": {
          "elapsed": 388,
          "status": "ok",
          "timestamp": 1636614599286,
          "user": {
            "displayName": "李万宇",
            "photoUrl": "https://lh3.googleusercontent.com/a-/AOh14GgL6QlaaH1MxPrzoHKA3ag6tqpBKrPo0E9vJxYj4g=s64",
            "userId": "01804867656979680118"
          },
          "user_tz": -540
        },
        "gather": {
          "logged": 1656566701702
        },
        "id": "AHYyZaqQNXQ6"
      },
      "outputs": [],
      "source": [
        "import pandas as pd\n",
        "import numpy as np\n",
        "import pickle\n",
        "\n",
        "from sklearn.metrics import mean_squared_error\n",
        "\n",
        "from catboost import CatBoostRegressor , Pool"
      ]
    },
    {
      "cell_type": "markdown",
      "metadata": {
        "id": "gmOp2uiINTjR"
      },
      "source": [
        "# Load train/dev data"
      ]
    },
    {
      "cell_type": "code",
      "execution_count": null,
      "metadata": {
        "gather": {
          "logged": 1656566702068
        },
        "jupyter": {
          "outputs_hidden": false,
          "source_hidden": false
        },
        "nteract": {
          "transient": {
            "deleting": false
          }
        }
      },
      "outputs": [],
      "source": [
        "df_train_FE=pd.read_csv('../data/W207_train_FE.csv')\n",
        "df_dev_FE=pd.read_csv('../data/W207_dev_FE.csv')\n",
        "df_train_FE.head()"
      ]
    },
    {
      "cell_type": "markdown",
      "metadata": {
        "id": "7IoTiB9VPxD7"
      },
      "source": [
        "# Trim the features"
      ]
    },
    {
      "cell_type": "code",
      "execution_count": null,
      "metadata": {
        "executionInfo": {
          "elapsed": 327,
          "status": "ok",
          "timestamp": 1636614679124,
          "user": {
            "displayName": "李万宇",
            "photoUrl": "https://lh3.googleusercontent.com/a-/AOh14GgL6QlaaH1MxPrzoHKA3ag6tqpBKrPo0E9vJxYj4g=s64",
            "userId": "01804867656979680118"
          },
          "user_tz": -540
        },
        "gather": {
          "logged": 1656566702343
        },
        "id": "55wYxBGrQ9H6"
      },
      "outputs": [],
      "source": [
        "feature_list=['MiscVal',\n",
        " 'LotFrontage',\n",
        " 'FEN_IndoorArea',\n",
        " 'FEN_YearAfterRemode',\n",
        " 'FEN_YearAfterbuilt',\n",
        " 'FEN_TotRmsAbvGrd_Per_GrLivArea',\n",
        " 'FEN_BsmtTotalbath',\n",
        " 'FEN_GrLivTotalbath',\n",
        " 'FEN_Area_comp0',\n",
        " 'FEN_Area_comp1',\n",
        " 'FEN_Area_comp2',\n",
        " 'FEN_Area_comp3',\n",
        " 'FEN_Area_comp4',\n",
        " 'FEN_Area_comp5',\n",
        " 'FEN_Area_comp7',\n",
        " 'MSSubClass',\n",
        " 'MSZoning',\n",
        " 'Street',\n",
        " 'LandContour',\n",
        " 'Utilities',\n",
        " 'LotConfig',\n",
        " 'LandSlope',\n",
        " 'Neighborhood',\n",
        " 'Condition1',\n",
        " 'Condition2',\n",
        " 'BldgType',\n",
        " 'HouseStyle',\n",
        " 'RoofStyle',\n",
        " 'RoofMatl',\n",
        " 'Exterior1st',\n",
        " 'Exterior2nd',\n",
        " 'MasVnrType',\n",
        " 'Foundation',\n",
        " 'Heating',\n",
        " 'CentralAir',\n",
        " 'Electrical',\n",
        " 'GarageType',\n",
        " 'SaleType',\n",
        " 'SaleCondition',\n",
        " 'MiscFeature',\n",
        " 'ExterQual',\n",
        " 'LotShape',\n",
        " 'ExterCond',\n",
        " 'BsmtQual',\n",
        " 'BsmtCond',\n",
        " 'BsmtExposure',\n",
        " 'BsmtFinType1',\n",
        " 'BsmtFinType2',\n",
        " 'HeatingQC',\n",
        " 'Functional',\n",
        " 'KitchenQual',\n",
        " 'GarageQual',\n",
        " 'GarageFinish',\n",
        " 'GarageCond',\n",
        " 'PavedDrive',\n",
        " 'PoolQC',\n",
        " 'Fence',\n",
        " 'FireplaceQu',\n",
        " 'Alley',\n",
        " 'OverallQual',\n",
        " 'OverallCond',\n",
        " 'BsmtFullBath',\n",
        " 'BsmtHalfBath',\n",
        " 'FullBath',\n",
        " 'HalfBath',\n",
        " 'BedroomAbvGr',\n",
        " 'KitchenAbvGr',\n",
        " 'TotRmsAbvGrd',\n",
        " 'Fireplaces',\n",
        " 'GarageCars',\n",
        " 'YearBuilt',\n",
        " 'YearRemodAdd',\n",
        " 'MoSold',\n",
        " 'YrSold',\n",
        " 'GarageYrBlt',\n",
        " 'FEC_ExterQual_dual',\n",
        " 'FEC_LotShape_dual',\n",
        " 'FEC_ExterCond_dual',\n",
        " 'FEC_BsmtQual_dual',\n",
        " 'FEC_BsmtCond_dual',\n",
        " 'FEC_BsmtExposure_dual',\n",
        " 'FEC_BsmtFinType1_dual',\n",
        " 'FEC_BsmtFinType2_dual',\n",
        " 'FEC_HeatingQC_dual',\n",
        " 'FEC_Functional_dual',\n",
        " 'FEC_KitchenQual_dual',\n",
        " 'FEC_GarageQual_dual',\n",
        " 'FEC_GarageFinish_dual',\n",
        " 'FEC_GarageCond_dual',\n",
        " 'FEC_PavedDrive_dual',\n",
        " 'FEC_PoolQC_dual',\n",
        " 'FEC_Fence_dual',\n",
        " 'FEC_FireplaceQu_dual',\n",
        " 'FEC_Alley_dual',\n",
        " 'FEC_OverallQual_dual',\n",
        " 'FEC_OverallCond_dual',\n",
        " 'FEC_BsmtFullBath_dual',\n",
        " 'FEC_BsmtHalfBath_dual',\n",
        " 'FEC_FullBath_dual',\n",
        " 'FEC_HalfBath_dual',\n",
        " 'FEC_BedroomAbvGr_dual',\n",
        " 'FEC_KitchenAbvGr_dual',\n",
        " 'FEC_TotRmsAbvGrd_dual',\n",
        " 'FEC_Fireplaces_dual',\n",
        " 'FEC_GarageCars_dual',\n",
        " 'FEC_YearBuilt_dual',\n",
        " 'FEC_YearRemodAdd_dual',\n",
        " 'FEC_MoSold_dual',\n",
        " 'FEC_YrSold_dual',\n",
        " 'FEC_GarageYrBlt_dual',\n",
        " 'FEC_LotArea_dual',\n",
        " 'FEC_MasVnrArea_dual',\n",
        " 'FEC_BsmtFinSF1_dual',\n",
        " 'FEC_BsmtFinSF2_dual',\n",
        " 'FEC_BsmtUnfSF_dual',\n",
        " 'FEC_TotalBsmtSF_dual',\n",
        " 'FEC_1stFlrSF_dual',\n",
        " 'FEC_2ndFlrSF_dual',\n",
        " 'FEC_LowQualFinSF_dual',\n",
        " 'FEC_GrLivArea_dual',\n",
        " 'FEC_GarageArea_dual',\n",
        " 'FEC_WoodDeckSF_dual',\n",
        " 'FEC_OpenPorchSF_dual',\n",
        " 'FEC_EnclosedPorch_dual',\n",
        " 'FEC_3SsnPorch_dual',\n",
        " 'FEC_ScreenPorch_dual',\n",
        " 'FEC_PoolArea_dual',\n",
        " 'FEC_MiscVal_dual',\n",
        " 'FEC_LotFrontage_dual']\n",
        "\n",
        "col_target='FE_SalePrice_Per_IndoorArea'\n",
        "\n",
        "col_cat_final=['MSSubClass',\n",
        " 'MSZoning',\n",
        " 'Street',\n",
        " 'LandContour',\n",
        " 'Utilities',\n",
        " 'LotConfig',\n",
        " 'LandSlope',\n",
        " 'Neighborhood',\n",
        " 'Condition1',\n",
        " 'Condition2',\n",
        " 'BldgType',\n",
        " 'HouseStyle',\n",
        " 'RoofStyle',\n",
        " 'RoofMatl',\n",
        " 'Exterior1st',\n",
        " 'Exterior2nd',\n",
        " 'MasVnrType',\n",
        " 'Foundation',\n",
        " 'Heating',\n",
        " 'CentralAir',\n",
        " 'Electrical',\n",
        " 'GarageType',\n",
        " 'SaleType',\n",
        " 'SaleCondition',\n",
        " 'MiscFeature',\n",
        " 'ExterQual',\n",
        " 'LotShape',\n",
        " 'ExterCond',\n",
        " 'BsmtQual',\n",
        " 'BsmtCond',\n",
        " 'BsmtExposure',\n",
        " 'BsmtFinType1',\n",
        " 'BsmtFinType2',\n",
        " 'HeatingQC',\n",
        " 'Functional',\n",
        " 'KitchenQual',\n",
        " 'GarageQual',\n",
        " 'GarageFinish',\n",
        " 'GarageCond',\n",
        " 'PavedDrive',\n",
        " 'PoolQC',\n",
        " 'Fence',\n",
        " 'FireplaceQu',\n",
        " 'Alley',\n",
        " 'OverallQual',\n",
        " 'OverallCond',\n",
        " 'BsmtFullBath',\n",
        " 'BsmtHalfBath',\n",
        " 'FullBath',\n",
        " 'HalfBath',\n",
        " 'BedroomAbvGr',\n",
        " 'KitchenAbvGr',\n",
        " 'TotRmsAbvGrd',\n",
        " 'Fireplaces',\n",
        " 'GarageCars',\n",
        " 'YearBuilt',\n",
        " 'YearRemodAdd',\n",
        " 'MoSold',\n",
        " 'YrSold',\n",
        " 'GarageYrBlt']\n",
        "       \n",
        "\n",
        "\n",
        "# rmse function for the evaluation confirmation\n",
        "def rmse(validation, target):\n",
        "    return np.sqrt(mean_squared_error(validation, target))"
      ]
    },
    {
      "cell_type": "code",
      "execution_count": null,
      "metadata": {
        "gather": {
          "logged": 1656566702638
        },
        "jupyter": {
          "outputs_hidden": false,
          "source_hidden": false
        },
        "nteract": {
          "transient": {
            "deleting": false
          }
        }
      },
      "outputs": [],
      "source": [
        "X_train=df_train_FE[feature_list]\n",
        "y_train=df_train_FE[col_target].to_numpy().ravel()\n",
        "\n",
        "\n",
        "\n",
        "X_valid=df_dev_FE[feature_list]\n",
        "y_valid=df_dev_FE[col_target].to_numpy().ravel()"
      ]
    },
    {
      "cell_type": "markdown",
      "metadata": {
        "nteract": {
          "transient": {
            "deleting": false
          }
        }
      },
      "source": [
        "# Build the model"
      ]
    },
    {
      "cell_type": "code",
      "execution_count": null,
      "metadata": {
        "gather": {
          "logged": 1656566708893
        },
        "jupyter": {
          "outputs_hidden": false,
          "source_hidden": false
        },
        "nteract": {
          "transient": {
            "deleting": false
          }
        }
      },
      "outputs": [],
      "source": [
        "# initialize Pool\n",
        "train_pool = Pool(X_train, \n",
        "                  y_train, \n",
        "                  cat_features=col_cat_final)\n",
        "test_pool = Pool(X_valid, \n",
        "                 y_valid,\n",
        "                 cat_features=col_cat_final)"
      ]
    },
    {
      "cell_type": "code",
      "execution_count": null,
      "metadata": {
        "gather": {
          "logged": 1656566709252
        },
        "jupyter": {
          "outputs_hidden": false,
          "source_hidden": false
        },
        "nteract": {
          "transient": {
            "deleting": false
          }
        }
      },
      "outputs": [],
      "source": [
        "param={'boosting_type': 'Plain',\n",
        "'iterations':700, \n",
        "'random_seed':42,\n",
        "'depth': 5,\n",
        "'l2_leaf_reg': 5.464804976966055,\n",
        "'learning_rate': 0.08943915485210002,\n",
        "'logging_level': 'Silent',\n",
        "'loss_function': 'RMSE',\n",
        "'max_ctr_complexity': 6,\n",
        "'random_seed': 4,\n",
        "'task_type': 'CPU'\n",
        "}"
      ]
    },
    {
      "cell_type": "code",
      "execution_count": null,
      "metadata": {
        "gather": {
          "logged": 1656566737778
        },
        "jupyter": {
          "outputs_hidden": false,
          "source_hidden": false
        },
        "nteract": {
          "transient": {
            "deleting": false
          }
        }
      },
      "outputs": [],
      "source": [
        "model = CatBoostRegressor(**param,)\n",
        "model.fit(train_pool, verbose=0)"
      ]
    },
    {
      "cell_type": "code",
      "execution_count": null,
      "metadata": {
        "gather": {
          "logged": 1656566738086
        },
        "jupyter": {
          "outputs_hidden": false,
          "source_hidden": false
        },
        "nteract": {
          "transient": {
            "deleting": false
          }
        }
      },
      "outputs": [],
      "source": [
        "preds = model.predict(train_pool)*X_train['FEN_IndoorArea']\n",
        "rmse(df_train_FE['SalePrice'], preds)"
      ]
    },
    {
      "cell_type": "code",
      "execution_count": null,
      "metadata": {
        "gather": {
          "logged": 1656566738468
        },
        "jupyter": {
          "outputs_hidden": false,
          "source_hidden": false
        },
        "nteract": {
          "transient": {
            "deleting": false
          }
        }
      },
      "outputs": [],
      "source": [
        "preds = model.predict(test_pool)*X_valid['FEN_IndoorArea']\n",
        "rmse(df_dev_FE['SalePrice'], preds)"
      ]
    },
    {
      "cell_type": "markdown",
      "metadata": {
        "nteract": {
          "transient": {
            "deleting": false
          }
        }
      },
      "source": [
        "# Save the model"
      ]
    },
    {
      "cell_type": "code",
      "execution_count": null,
      "metadata": {
        "gather": {
          "logged": 1656566738752
        },
        "jupyter": {
          "outputs_hidden": false,
          "source_hidden": false
        },
        "nteract": {
          "transient": {
            "deleting": false
          }
        }
      },
      "outputs": [],
      "source": [
        "pickle.dump(model, open(\"./model.pkl\",\"wb\"))"
      ]
    }
  ],
  "metadata": {
    "colab": {
      "authorship_tag": "ABX9TyPb+eRpM2iB0aNljFjcfHb1",
      "collapsed_sections": [],
      "name": "Prediction.ipynb",
      "provenance": [],
      "toc_visible": true
    },
    "kernel_info": {
      "name": "python3"
    },
    "kernelspec": {
      "display_name": "Python 3.8.10 64-bit",
      "language": "python",
      "name": "python3"
    },
    "language_info": {
      "codemirror_mode": {
        "name": "ipython",
        "version": 3
      },
      "file_extension": ".py",
      "mimetype": "text/x-python",
      "name": "python",
      "nbconvert_exporter": "python",
      "pygments_lexer": "ipython3",
      "version": "3.8.10"
    },
    "microsoft": {
      "host": {
        "AzureML": {
          "notebookHasBeenCompleted": true
        }
      }
    },
    "nteract": {
      "version": "nteract-front-end@1.0.0"
    },
    "vscode": {
      "interpreter": {
        "hash": "916dbcbb3f70747c44a77c7bcd40155683ae19c65e1c03b4aa3499c5328201f1"
      }
    }
  },
  "nbformat": 4,
  "nbformat_minor": 0
}
